{
 "cells": [
  {
   "cell_type": "code",
   "execution_count": 1,
   "id": "72181433",
   "metadata": {},
   "outputs": [],
   "source": [
    "import warnings\n",
    "warnings.filterwarnings(\"ignore\")\n",
    "\n",
    "import numpy as np\n",
    "import pandas as pd \n",
    "import seaborn as sns\n",
    "import matplotlib.pyplot as plt"
   ]
  },
  {
   "cell_type": "code",
   "execution_count": 2,
   "id": "9523f0eb",
   "metadata": {},
   "outputs": [
    {
     "name": "stdout",
     "output_type": "stream",
     "text": [
      "2.3.0\n"
     ]
    }
   ],
   "source": [
    "import tensorflow as tf\n",
    "print(tf.__version__)"
   ]
  },
  {
   "cell_type": "code",
   "execution_count": 3,
   "id": "3bd345af",
   "metadata": {
    "run_control": {
     "marked": false
    }
   },
   "outputs": [],
   "source": [
    "from sklearn.manifold import TSNE\n",
    "\n",
    "def tsne_plot(x1, y1, name=\"graph.png\"):\n",
    "    tsne = TSNE(n_components=2, random_state=0)\n",
    "    X_t = tsne.fit_transform(x1)\n",
    "#     plt.figure(figsize=(12, 8))\n",
    "    plt.scatter(X_t[np.where(y1 == 0), 0], X_t[np.where(y1 == 0), 1], marker='o', color='g', linewidth='1', alpha=0.8, label='Non Fraud', s=2)\n",
    "    plt.scatter(X_t[np.where(y1 == 1), 0], X_t[np.where(y1 == 1), 1], marker='o', color='r', linewidth='1', alpha=0.8, label='Fraud', s=2)\n",
    "\n",
    "    plt.legend(loc='best');\n",
    "    plt.savefig(name);\n",
    "    plt.show();"
   ]
  },
  {
   "cell_type": "code",
   "execution_count": 4,
   "id": "f36f128d",
   "metadata": {},
   "outputs": [],
   "source": [
    "df = pd.read_csv(\"./Data/sensor.csv\", index_col=0)"
   ]
  },
  {
   "cell_type": "code",
   "execution_count": 5,
   "id": "bd59531b",
   "metadata": {},
   "outputs": [],
   "source": [
    "df['timestamp'] = pd.to_datetime(df['timestamp'])\n",
    "df.set_index('timestamp', inplace=True)"
   ]
  },
  {
   "cell_type": "code",
   "execution_count": 6,
   "id": "14138d89",
   "metadata": {},
   "outputs": [],
   "source": [
    "df = df.drop('sensor_15', axis=1)\n",
    "df = df.fillna(method='ffill')"
   ]
  },
  {
   "cell_type": "code",
   "execution_count": 7,
   "id": "ec71089d",
   "metadata": {},
   "outputs": [],
   "source": [
    "df_broken = df[df['machine_status'] =='BROKEN']\n",
    "df_sensors = df.drop(['machine_status'], axis=1)"
   ]
  },
  {
   "cell_type": "code",
   "execution_count": 8,
   "id": "90ad3745",
   "metadata": {},
   "outputs": [],
   "source": [
    "# data = df_sensors.append(df_broken).sample(frac=1).reset_index(drop=True)\n",
    "# X = data.drop(['machine_status'], axis = 1).values\n",
    "# Y = data[\"machine_status\"].values\n",
    "\n",
    "# tsne_plot(X, Y, \"original.png\")"
   ]
  },
  {
   "cell_type": "code",
   "execution_count": 12,
   "id": "a8674d77",
   "metadata": {},
   "outputs": [],
   "source": [
    "N_sensor = int(df_broken.shape[1]-1)"
   ]
  },
  {
   "cell_type": "code",
   "execution_count": 13,
   "id": "dba78b5f",
   "metadata": {},
   "outputs": [],
   "source": [
    "timesteps = 24\n",
    "inputs = tf.keras.Input(shape=(timesteps, N_sensor))\n",
    "\n",
    "X = tf.keras.layers.Conv1D(filters = 16, kernel_size = 2, padding = 'same')(inputs)\n",
    "X = tf.keras.layers.Dropout(rate = 0.25)(X)\n",
    "X = tf.keras.layers.Flatten()(X)\n",
    "X = tf.keras.layers.Dense(24)\n",
    "X = tf.keras"
   ]
  },
  {
   "cell_type": "code",
   "execution_count": null,
   "id": "22df8c2b",
   "metadata": {},
   "outputs": [],
   "source": []
  }
 ],
 "metadata": {
  "kernelspec": {
   "display_name": "Python [conda env:python_gpu]",
   "language": "python",
   "name": "conda-env-python_gpu-py"
  },
  "language_info": {
   "codemirror_mode": {
    "name": "ipython",
    "version": 3
   },
   "file_extension": ".py",
   "mimetype": "text/x-python",
   "name": "python",
   "nbconvert_exporter": "python",
   "pygments_lexer": "ipython3",
   "version": "3.8.8"
  }
 },
 "nbformat": 4,
 "nbformat_minor": 5
}
